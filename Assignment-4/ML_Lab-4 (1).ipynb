{
 "cells": [
  {
   "cell_type": "code",
   "execution_count": 430,
   "metadata": {},
   "outputs": [],
   "source": [
    "import numpy as np\n",
    "import matplotlib.pyplot as plt\n",
    "import pandas as pd\n"
   ]
  },
  {
   "cell_type": "code",
   "execution_count": 431,
   "metadata": {},
   "outputs": [],
   "source": [
    "df=pd.read_csv(\"https://raw.githubusercontent.com/AlfTang/Linear-Regression/master/ex1data1.txt\",names = ['population','profit'],header = None)"
   ]
  },
  {
   "cell_type": "code",
   "execution_count": 432,
   "metadata": {},
   "outputs": [
    {
     "data": {
      "text/html": [
       "<div>\n",
       "<style scoped>\n",
       "    .dataframe tbody tr th:only-of-type {\n",
       "        vertical-align: middle;\n",
       "    }\n",
       "\n",
       "    .dataframe tbody tr th {\n",
       "        vertical-align: top;\n",
       "    }\n",
       "\n",
       "    .dataframe thead th {\n",
       "        text-align: right;\n",
       "    }\n",
       "</style>\n",
       "<table border=\"1\" class=\"dataframe\">\n",
       "  <thead>\n",
       "    <tr style=\"text-align: right;\">\n",
       "      <th></th>\n",
       "      <th>population</th>\n",
       "      <th>profit</th>\n",
       "    </tr>\n",
       "  </thead>\n",
       "  <tbody>\n",
       "    <tr>\n",
       "      <th>0</th>\n",
       "      <td>6.1101</td>\n",
       "      <td>17.5920</td>\n",
       "    </tr>\n",
       "    <tr>\n",
       "      <th>1</th>\n",
       "      <td>5.5277</td>\n",
       "      <td>9.1302</td>\n",
       "    </tr>\n",
       "    <tr>\n",
       "      <th>2</th>\n",
       "      <td>8.5186</td>\n",
       "      <td>13.6620</td>\n",
       "    </tr>\n",
       "    <tr>\n",
       "      <th>3</th>\n",
       "      <td>7.0032</td>\n",
       "      <td>11.8540</td>\n",
       "    </tr>\n",
       "    <tr>\n",
       "      <th>4</th>\n",
       "      <td>5.8598</td>\n",
       "      <td>6.8233</td>\n",
       "    </tr>\n",
       "  </tbody>\n",
       "</table>\n",
       "</div>"
      ],
      "text/plain": [
       "   population   profit\n",
       "0      6.1101  17.5920\n",
       "1      5.5277   9.1302\n",
       "2      8.5186  13.6620\n",
       "3      7.0032  11.8540\n",
       "4      5.8598   6.8233"
      ]
     },
     "execution_count": 432,
     "metadata": {},
     "output_type": "execute_result"
    }
   ],
   "source": [
    "df.head()"
   ]
  },
  {
   "cell_type": "code",
   "execution_count": 433,
   "metadata": {},
   "outputs": [
    {
     "data": {
      "text/html": [
       "<div>\n",
       "<style scoped>\n",
       "    .dataframe tbody tr th:only-of-type {\n",
       "        vertical-align: middle;\n",
       "    }\n",
       "\n",
       "    .dataframe tbody tr th {\n",
       "        vertical-align: top;\n",
       "    }\n",
       "\n",
       "    .dataframe thead th {\n",
       "        text-align: right;\n",
       "    }\n",
       "</style>\n",
       "<table border=\"1\" class=\"dataframe\">\n",
       "  <thead>\n",
       "    <tr style=\"text-align: right;\">\n",
       "      <th></th>\n",
       "      <th>population</th>\n",
       "      <th>profit</th>\n",
       "    </tr>\n",
       "  </thead>\n",
       "  <tbody>\n",
       "    <tr>\n",
       "      <th>count</th>\n",
       "      <td>97.000000</td>\n",
       "      <td>97.000000</td>\n",
       "    </tr>\n",
       "    <tr>\n",
       "      <th>mean</th>\n",
       "      <td>8.159800</td>\n",
       "      <td>5.839135</td>\n",
       "    </tr>\n",
       "    <tr>\n",
       "      <th>std</th>\n",
       "      <td>3.869884</td>\n",
       "      <td>5.510262</td>\n",
       "    </tr>\n",
       "    <tr>\n",
       "      <th>min</th>\n",
       "      <td>5.026900</td>\n",
       "      <td>-2.680700</td>\n",
       "    </tr>\n",
       "    <tr>\n",
       "      <th>25%</th>\n",
       "      <td>5.707700</td>\n",
       "      <td>1.986900</td>\n",
       "    </tr>\n",
       "    <tr>\n",
       "      <th>50%</th>\n",
       "      <td>6.589400</td>\n",
       "      <td>4.562300</td>\n",
       "    </tr>\n",
       "    <tr>\n",
       "      <th>75%</th>\n",
       "      <td>8.578100</td>\n",
       "      <td>7.046700</td>\n",
       "    </tr>\n",
       "    <tr>\n",
       "      <th>max</th>\n",
       "      <td>22.203000</td>\n",
       "      <td>24.147000</td>\n",
       "    </tr>\n",
       "  </tbody>\n",
       "</table>\n",
       "</div>"
      ],
      "text/plain": [
       "       population     profit\n",
       "count   97.000000  97.000000\n",
       "mean     8.159800   5.839135\n",
       "std      3.869884   5.510262\n",
       "min      5.026900  -2.680700\n",
       "25%      5.707700   1.986900\n",
       "50%      6.589400   4.562300\n",
       "75%      8.578100   7.046700\n",
       "max     22.203000  24.147000"
      ]
     },
     "execution_count": 433,
     "metadata": {},
     "output_type": "execute_result"
    }
   ],
   "source": [
    "df.describe()"
   ]
  },
  {
   "cell_type": "markdown",
   "metadata": {},
   "source": [
    "## Visualizing the Data"
   ]
  },
  {
   "cell_type": "code",
   "execution_count": 518,
   "metadata": {},
   "outputs": [
    {
     "data": {
      "text/plain": [
       "Text(0,0.5,'Profit')"
      ]
     },
     "execution_count": 518,
     "metadata": {},
     "output_type": "execute_result"
    },
    {
     "data": {
      "image/png": "[encoded data removed]",
      "text/plain": [
       "<Figure size 432x288 with 1 Axes>"
      ]
     },
     "metadata": {
      "needs_background": "light"
     },
     "output_type": "display_data"
    }
   ],
   "source": [
    "plt.scatter(df['population'],df['profit'])\n",
    "plt.title(\"Profit Vs Population\")\n",
    "plt.xticks(np.arange(5,30,step=5))\n",
    "plt.yticks(np.arange(-5,30,step=5))\n",
    "plt.xlabel(\"Population\")\n",
    "plt.ylabel(\"Profit\")"
   ]
  },
  {
   "cell_type": "code",
   "execution_count": null,
   "metadata": {},
   "outputs": [],
   "source": []
  },
  {
   "cell_type": "code",
   "execution_count": 519,
   "metadata": {},
   "outputs": [],
   "source": [
    "def computeCost(X,y,theta):\n",
    "    \"\"\"\n",
    "    Take in a numpy array X,y, theta and generate the cost function of using theta as parameter in a linear regression model\n",
    "    \"\"\"\n",
    "    m=len(y)\n",
    "    predictions=X.dot(theta)\n",
    "    square_err=(predictions - y)**2\n",
    "    \n",
    "    return 1/(2*m) * np.sum(square_err)"
   ]
  },
  {
   "cell_type": "code",
   "execution_count": 520,
   "metadata": {},
   "outputs": [
    {
     "data": {
      "text/plain": [
       "32.072733877455676"
      ]
     },
     "execution_count": 520,
     "metadata": {},
     "output_type": "execute_result"
    }
   ],
   "source": [
    "data_n=df.values\n",
    "m=len(data_n[:,-1])\n",
    "X=np.append(np.ones((m,1)),data_n[:,0].reshape(m,1),axis=1)\n",
    "y=data_n[:,1].reshape(m,1)\n",
    "theta=np.zeros((2,1))\n",
    "computeCost(X,y,theta)"
   ]
  },
  {
   "cell_type": "code",
   "execution_count": 521,
   "metadata": {},
   "outputs": [],
   "source": [
    "\n",
    "def gradientDescent(X,y,theta,alpha,num_iters):\n",
    "    \"\"\"\n",
    "    Take in numpy array X, y and theta and update theta by taking   num_iters gradient steps\n",
    "    with learning rate of alpha\n",
    "    \n",
    "    return theta and the list of the cost of theta during each  iteration\n",
    "    \"\"\"\n",
    "    #theta=np.zeros((2,1))\n",
    "    num_iters = 40\n",
    "    m=len(y)\n",
    "    J_history=[]\n",
    "    \n",
    "    for i in range(num_iters):\n",
    "        predictions = X.dot(theta)\n",
    "        error = np.dot(X.transpose(),(predictions -y))\n",
    "        descent=alpha * 1/m * error\n",
    "        theta-=descent\n",
    "        J_history.append(computeCost(X,y,theta))\n",
    "    \n",
    "    return theta, J_history\n",
    "#theta,J_history = gradientDescent(X,y,theta,0.01,1500)\n",
    "#print(\"h(x) =\"+str(round(theta[0,0],2))+\" + \"+str(round(theta[1,0],2))+\"x1\")"
   ]
  },
  {
   "cell_type": "code",
   "execution_count": 523,
   "metadata": {},
   "outputs": [],
   "source": [
    "def plot_model_fit(alpha,theta):\n",
    "    plt.scatter(df['population'],df['profit'])\n",
    "    plt.title(\"Profit vs Population with alpha = {}\\n\".format(alpha))\n",
    "    x_value=[x for x in range(25)]\n",
    "    y_value=[y*theta[1]+theta[0] for y in x_value]\n",
    "    plt.plot(x_value,y_value,color=\"r\")\n",
    "    plt.xticks(np.arange(5,30,step=5))\n",
    "    plt.yticks(np.arange(-5,30,step=5))\n",
    "    plt.xlabel(\"Population\")\n",
    "    plt.ylabel(\"Profit\")"
   ]
  },
  {
   "cell_type": "code",
   "execution_count": 525,
   "metadata": {},
   "outputs": [
    {
     "name": "stdout",
     "output_type": "stream",
     "text": [
      "The ALPHA value, learning_rate: 0.001\n",
      "The THETA value: [[0.04858944]\n",
      " [0.77086905]]\n",
      "\n",
      "Hypothesis Function:\n",
      "h(x) =0.05 + 0.77x1\n"
     ]
    },
    {
     "data": {
      "image/png": "[encoded data removed]",
      "text/plain": [
       "<Figure size 432x288 with 1 Axes>"
      ]
     },
     "metadata": {
      "needs_background": "light"
     },
     "output_type": "display_data"
    }
   ],
   "source": [
    "alpha_values = np.arange(0.001,0.024,0.002)\n",
    "i = 0\n",
    "J_histories =[] # contains the cost at each iteration\n",
    "#alpha = float(input('Enter the ALPHA value, learning_rate: '))\n",
    "#alpha_values.append(alpha)\n",
    "theta=np.zeros((2,1))\n",
    "alpha = alpha_values[i]\n",
    "theta,J_history = gradientDescent(X,y,theta,alpha,1500)\n",
    "print('The ALPHA value, learning_rate: {}'.format(alpha))\n",
    "print('The THETA value: {}'.format(theta))\n",
    "print('\\nHypothesis Function:')\n",
    "print(\"h(x) =\"+str(round(theta[0,0],2))+\" + \"+str(round(theta[1,0],2))+\"x1\")\n",
    "i += 1\n",
    "J_histories.append(J_history)\n",
    "plot_model_fit(alpha,theta)\n",
    "    \n",
    "\n",
    "# alpha = 0.0243\n",
    "# alpha  = 0.02433 -> -ve slope\n",
    "# alpha = 0.02432716  -> 0 slope\n",
    "#alpha = 0.02432553   -> 0 slope"
   ]
  },
  {
   "cell_type": "code",
   "execution_count": 526,
   "metadata": {},
   "outputs": [
    {
     "name": "stdout",
     "output_type": "stream",
     "text": [
      "The ALPHA value, learning_rate: 0.003\n",
      "The THETA value: [[-0.00536441]\n",
      " [ 0.80218949]]\n",
      "\n",
      "Hypothesis Function:\n",
      "h(x) =-0.01 + 0.8x1\n"
     ]
    },
    {
     "data": {
      "image/png": "[encoded data removed]",
      "text/plain": [
       "<Figure size 432x288 with 1 Axes>"
      ]
     },
     "metadata": {
      "needs_background": "light"
     },
     "output_type": "display_data"
    }
   ],
   "source": [
    "#alpha = float(input('Enter the ALPHA value, learning_rate: '))\n",
    "#alpha_values.append(alpha)\n",
    "theta=np.zeros((2,1))\n",
    "alpha = alpha_values[i]\n",
    "theta,J_history = gradientDescent(X,y,theta,alpha,1500)\n",
    "print('The ALPHA value, learning_rate: {}'.format(alpha))\n",
    "print('The THETA value: {}'.format(theta))\n",
    "print('\\nHypothesis Function:')\n",
    "print(\"h(x) =\"+str(round(theta[0,0],2))+\" + \"+str(round(theta[1,0],2))+\"x1\")\n",
    "i += 1\n",
    "J_histories.append(J_history)\n",
    "plot_model_fit(alpha,theta)"
   ]
  },
  {
   "cell_type": "code",
   "execution_count": 527,
   "metadata": {},
   "outputs": [
    {
     "name": "stdout",
     "output_type": "stream",
     "text": [
      "The ALPHA value, learning_rate: 0.005\n",
      "The THETA value: [[-0.06110357]\n",
      " [ 0.80779871]]\n",
      "\n",
      "Hypothesis Function:\n",
      "h(x) =-0.06 + 0.81x1\n"
     ]
    },
    {
     "data": {
      "image/png": "[encoded data removed]",
      "text/plain": [
       "<Figure size 432x288 with 1 Axes>"
      ]
     },
     "metadata": {
      "needs_background": "light"
     },
     "output_type": "display_data"
    }
   ],
   "source": [
    "#alpha = float(input('Enter the ALPHA value, learning_rate: '))\n",
    "#alpha_values.append(alpha)\n",
    "theta=np.zeros((2,1))\n",
    "alpha = alpha_values[i]\n",
    "theta,J_history = gradientDescent(X,y,theta,alpha,1500)\n",
    "print('The ALPHA value, learning_rate: {}'.format(alpha))\n",
    "print('The THETA value: {}'.format(theta))\n",
    "print('\\nHypothesis Function:')\n",
    "print(\"h(x) =\"+str(round(theta[0,0],2))+\" + \"+str(round(theta[1,0],2))+\"x1\")\n",
    "i += 1\n",
    "J_histories.append(J_history)\n",
    "plot_model_fit(alpha,theta)"
   ]
  },
  {
   "cell_type": "code",
   "execution_count": 528,
   "metadata": {},
   "outputs": [
    {
     "name": "stdout",
     "output_type": "stream",
     "text": [
      "The ALPHA value, learning_rate: 0.007\n",
      "The THETA value: [[-0.11606475]\n",
      " [ 0.81332016]]\n",
      "\n",
      "Hypothesis Function:\n",
      "h(x) =-0.12 + 0.81x1\n"
     ]
    },
    {
     "data": {
      "image/png": "[encoded data removed]",
      "text/plain": [
       "<Figure size 432x288 with 1 Axes>"
      ]
     },
     "metadata": {
      "needs_background": "light"
     },
     "output_type": "display_data"
    }
   ],
   "source": [
    "#alpha = float(input('Enter the ALPHA value, learning_rate: '))\n",
    "#alpha_values.append(alpha)\n",
    "theta=np.zeros((2,1))\n",
    "alpha = alpha_values[i]\n",
    "theta,J_history = gradientDescent(X,y,theta,alpha,1500)\n",
    "print('The ALPHA value, learning_rate: {}'.format(alpha))\n",
    "print('The THETA value: {}'.format(theta))\n",
    "print('\\nHypothesis Function:')\n",
    "print(\"h(x) =\"+str(round(theta[0,0],2))+\" + \"+str(round(theta[1,0],2))+\"x1\")\n",
    "i += 1\n",
    "J_histories.append(J_history)\n",
    "plot_model_fit(alpha,theta)"
   ]
  },
  {
   "cell_type": "code",
   "execution_count": 529,
   "metadata": {},
   "outputs": [
    {
     "name": "stdout",
     "output_type": "stream",
     "text": [
      "The ALPHA value, learning_rate: 0.009000000000000001\n",
      "The THETA value: [[-0.17025762]\n",
      " [ 0.81876442]]\n",
      "\n",
      "Hypothesis Function:\n",
      "h(x) =-0.17 + 0.82x1\n"
     ]
    },
    {
     "data": {
      "image/png": "[encoded data removed]",
      "text/plain": [
       "<Figure size 432x288 with 1 Axes>"
      ]
     },
     "metadata": {
      "needs_background": "light"
     },
     "output_type": "display_data"
    }
   ],
   "source": [
    "#alpha = float(input('Enter the ALPHA value, learning_rate: '))\n",
    "#alpha_values.append(alpha)\n",
    "theta=np.zeros((2,1))\n",
    "alpha = alpha_values[i]\n",
    "theta,J_history = gradientDescent(X,y,theta,alpha,1500)\n",
    "print('The ALPHA value, learning_rate: {}'.format(alpha))\n",
    "print('The THETA value: {}'.format(theta))\n",
    "print('\\nHypothesis Function:')\n",
    "print(\"h(x) =\"+str(round(theta[0,0],2))+\" + \"+str(round(theta[1,0],2))+\"x1\")\n",
    "i += 1\n",
    "J_histories.append(J_history)\n",
    "plot_model_fit(alpha,theta)"
   ]
  },
  {
   "cell_type": "code",
   "execution_count": 530,
   "metadata": {},
   "outputs": [
    {
     "name": "stdout",
     "output_type": "stream",
     "text": [
      "The ALPHA value, learning_rate: 0.011\n",
      "The THETA value: [[-0.22369263]\n",
      " [ 0.82413255]]\n",
      "\n",
      "Hypothesis Function:\n",
      "h(x) =-0.22 + 0.82x1\n"
     ]
    },
    {
     "data": {
      "image/png": "[encoded data removed]",
      "text/plain": [
       "<Figure size 432x288 with 1 Axes>"
      ]
     },
     "metadata": {
      "needs_background": "light"
     },
     "output_type": "display_data"
    }
   ],
   "source": [
    "#alpha = float(input('Enter the ALPHA value, learning_rate: '))\n",
    "#alpha_values.append(alpha)\n",
    "theta=np.zeros((2,1))\n",
    "alpha = alpha_values[i]\n",
    "theta,J_history = gradientDescent(X,y,theta,alpha,1500)\n",
    "print('The ALPHA value, learning_rate: {}'.format(alpha))\n",
    "print('The THETA value: {}'.format(theta))\n",
    "print('\\nHypothesis Function:')\n",
    "print(\"h(x) =\"+str(round(theta[0,0],2))+\" + \"+str(round(theta[1,0],2))+\"x1\")\n",
    "i += 1\n",
    "J_histories.append(J_history)\n",
    "plot_model_fit(alpha,theta)"
   ]
  },
  {
   "cell_type": "code",
   "execution_count": 531,
   "metadata": {},
   "outputs": [
    {
     "name": "stdout",
     "output_type": "stream",
     "text": [
      "The ALPHA value, learning_rate: 0.013000000000000001\n",
      "The THETA value: [[-0.27638011]\n",
      " [ 0.82942558]]\n",
      "\n",
      "Hypothesis Function:\n",
      "h(x) =-0.28 + 0.83x1\n"
     ]
    },
    {
     "data": {
      "image/png": "[encoded data removed]",
      "text/plain": [
       "<Figure size 432x288 with 1 Axes>"
      ]
     },
     "metadata": {
      "needs_background": "light"
     },
     "output_type": "display_data"
    }
   ],
   "source": [
    "#alpha = float(input('Enter the ALPHA value, learning_rate: '))\n",
    "#alpha_values.append(alpha)\n",
    "theta=np.zeros((2,1))\n",
    "alpha = alpha_values[i]\n",
    "theta,J_history = gradientDescent(X,y,theta,alpha,1500)\n",
    "print('The ALPHA value, learning_rate: {}'.format(alpha))\n",
    "print('The THETA value: {}'.format(theta))\n",
    "print('\\nHypothesis Function:')\n",
    "print(\"h(x) =\"+str(round(theta[0,0],2))+\" + \"+str(round(theta[1,0],2))+\"x1\")\n",
    "i += 1\n",
    "J_histories.append(J_history)\n",
    "plot_model_fit(alpha,theta)"
   ]
  },
  {
   "cell_type": "code",
   "execution_count": 532,
   "metadata": {},
   "outputs": [
    {
     "name": "stdout",
     "output_type": "stream",
     "text": [
      "The ALPHA value, learning_rate: 0.015\n",
      "The THETA value: [[-0.32833026]\n",
      " [ 0.83464453]]\n",
      "\n",
      "Hypothesis Function:\n",
      "h(x) =-0.33 + 0.83x1\n"
     ]
    },
    {
     "data": {
      "image/png": "[encoded data removed]",
      "text/plain": [
       "<Figure size 432x288 with 1 Axes>"
      ]
     },
     "metadata": {
      "needs_background": "light"
     },
     "output_type": "display_data"
    }
   ],
   "source": [
    "#alpha = float(input('Enter the ALPHA value, learning_rate: '))\n",
    "#alpha_values.append(alpha)\n",
    "theta=np.zeros((2,1))\n",
    "alpha = alpha_values[i]\n",
    "theta,J_history = gradientDescent(X,y,theta,alpha,1500)\n",
    "print('The ALPHA value, learning_rate: {}'.format(alpha))\n",
    "print('The THETA value: {}'.format(theta))\n",
    "print('\\nHypothesis Function:')\n",
    "print(\"h(x) =\"+str(round(theta[0,0],2))+\" + \"+str(round(theta[1,0],2))+\"x1\")\n",
    "i += 1\n",
    "J_histories.append(J_history)\n",
    "plot_model_fit(alpha,theta)"
   ]
  },
  {
   "cell_type": "code",
   "execution_count": 533,
   "metadata": {},
   "outputs": [
    {
     "name": "stdout",
     "output_type": "stream",
     "text": [
      "The ALPHA value, learning_rate: 0.017\n",
      "The THETA value: [[-0.37955315]\n",
      " [ 0.83979043]]\n",
      "\n",
      "Hypothesis Function:\n",
      "h(x) =-0.38 + 0.84x1\n"
     ]
    },
    {
     "data": {
      "image/png": "[encoded data removed]",
      "text/plain": [
       "<Figure size 432x288 with 1 Axes>"
      ]
     },
     "metadata": {
      "needs_background": "light"
     },
     "output_type": "display_data"
    }
   ],
   "source": [
    "#alpha = float(input('Enter the ALPHA value, learning_rate: '))\n",
    "#alpha_values.append(alpha)\n",
    "theta=np.zeros((2,1))\n",
    "alpha = alpha_values[i]\n",
    "theta,J_history = gradientDescent(X,y,theta,alpha,1500)\n",
    "print('The ALPHA value, learning_rate: {}'.format(alpha))\n",
    "print('The THETA value: {}'.format(theta))\n",
    "print('\\nHypothesis Function:')\n",
    "print(\"h(x) =\"+str(round(theta[0,0],2))+\" + \"+str(round(theta[1,0],2))+\"x1\")\n",
    "i += 1\n",
    "J_histories.append(J_history)\n",
    "plot_model_fit(alpha,theta)"
   ]
  },
  {
   "cell_type": "code",
   "execution_count": 534,
   "metadata": {},
   "outputs": [
    {
     "name": "stdout",
     "output_type": "stream",
     "text": [
      "The ALPHA value, learning_rate: 0.019000000000000003\n",
      "The THETA value: [[-0.43005868]\n",
      " [ 0.84486426]]\n",
      "\n",
      "Hypothesis Function:\n",
      "h(x) =-0.43 + 0.84x1\n"
     ]
    },
    {
     "data": {
      "image/png": "[encoded data removed]",
      "text/plain": [
       "<Figure size 432x288 with 1 Axes>"
      ]
     },
     "metadata": {
      "needs_background": "light"
     },
     "output_type": "display_data"
    }
   ],
   "source": [
    "#alpha = float(input('Enter the ALPHA value, learning_rate: '))\n",
    "#alpha_values.append(alpha)\n",
    "theta=np.zeros((2,1))\n",
    "alpha = alpha_values[i]\n",
    "theta,J_history = gradientDescent(X,y,theta,alpha,1500)\n",
    "print('The ALPHA value, learning_rate: {}'.format(alpha))\n",
    "print('The THETA value: {}'.format(theta))\n",
    "print('\\nHypothesis Function:')\n",
    "print(\"h(x) =\"+str(round(theta[0,0],2))+\" + \"+str(round(theta[1,0],2))+\"x1\")\n",
    "i += 1\n",
    "J_histories.append(J_history)\n",
    "plot_model_fit(alpha,theta)"
   ]
  },
  {
   "cell_type": "code",
   "execution_count": null,
   "metadata": {},
   "outputs": [],
   "source": []
  },
  {
   "cell_type": "code",
   "execution_count": 535,
   "metadata": {},
   "outputs": [
    {
     "name": "stdout",
     "output_type": "stream",
     "text": [
      "The ALPHA value, learning_rate: 0.021\n",
      "The THETA value: [[-0.47985688]\n",
      " [ 0.84986475]]\n",
      "\n",
      "Hypothesis Function:\n",
      "h(x) =-0.48 + 0.85x1\n"
     ]
    },
    {
     "data": {
      "image/png": "[encoded data removed]",
      "text/plain": [
       "<Figure size 432x288 with 1 Axes>"
      ]
     },
     "metadata": {
      "needs_background": "light"
     },
     "output_type": "display_data"
    }
   ],
   "source": [
    "#alpha = float(input('Enter the ALPHA value, learning_rate: '))\n",
    "#alpha_values.append(alpha)\n",
    "theta=np.zeros((2,1))\n",
    "alpha = alpha_values[i]\n",
    "theta,J_history = gradientDescent(X,y,theta,alpha,1500)\n",
    "print('The ALPHA value, learning_rate: {}'.format(alpha))\n",
    "print('The THETA value: {}'.format(theta))\n",
    "print('\\nHypothesis Function:')\n",
    "print(\"h(x) =\"+str(round(theta[0,0],2))+\" + \"+str(round(theta[1,0],2))+\"x1\")\n",
    "i += 1\n",
    "J_histories.append(J_history)\n",
    "plot_model_fit(alpha,theta)"
   ]
  },
  {
   "cell_type": "code",
   "execution_count": 536,
   "metadata": {},
   "outputs": [
    {
     "name": "stdout",
     "output_type": "stream",
     "text": [
      "The ALPHA value, learning_rate: 0.023\n",
      "The THETA value: [[-0.52975025]\n",
      " [ 0.84690088]]\n",
      "\n",
      "Hypothesis Function:\n",
      "h(x) =-0.53 + 0.85x1\n"
     ]
    },
    {
     "data": {
      "image/png": "[encoded data removed]",
      "text/plain": [
       "<Figure size 432x288 with 1 Axes>"
      ]
     },
     "metadata": {
      "needs_background": "light"
     },
     "output_type": "display_data"
    }
   ],
   "source": [
    "#alpha = float(input('Enter the ALPHA value, learning_rate: '))\n",
    "#alpha_values.append(alpha)\n",
    "theta=np.zeros((2,1))\n",
    "alpha = alpha_values[i]\n",
    "theta,J_history = gradientDescent(X,y,theta,alpha,1500)\n",
    "print('The ALPHA value, learning_rate: {}'.format(alpha))\n",
    "print('The THETA value: {}'.format(theta))\n",
    "print('\\nHypothesis Function:')\n",
    "print(\"h(x) =\"+str(round(theta[0,0],2))+\" + \"+str(round(theta[1,0],2))+\"x1\")\n",
    "i += 1\n",
    "J_histories.append(J_history)\n",
    "plot_model_fit(alpha,theta)"
   ]
  },
  {
   "cell_type": "code",
   "execution_count": 548,
   "metadata": {},
   "outputs": [
    {
     "data": {
      "text/plain": [
       "40"
      ]
     },
     "execution_count": 548,
     "metadata": {},
     "output_type": "execute_result"
    }
   ],
   "source": [
    "\n",
    "x = np.arange(1,31,0.75)\n",
    "y = alpha_values\n",
    "#len(y)\n",
    "#print(len(x))\n",
    "len(x)"
   ]
  },
  {
   "cell_type": "code",
   "execution_count": 546,
   "metadata": {},
   "outputs": [
    {
     "name": "stdout",
     "output_type": "stream",
     "text": [
      "5.669593353815366\n"
     ]
    },
    {
     "data": {
      "text/plain": [
       "27.94761974682486"
      ]
     },
     "execution_count": 546,
     "metadata": {},
     "output_type": "execute_result"
    }
   ],
   "source": [
    "print(min(min(J_histories)))\n",
    "max(max(J_histories))"
   ]
  },
  {
   "cell_type": "code",
   "execution_count": 550,
   "metadata": {},
   "outputs": [
    {
     "data": {
      "image/png": "[encoded data removed]",
      "text/plain": [
       "<Figure size 720x576 with 1 Axes>"
      ]
     },
     "metadata": {
      "needs_background": "light"
     },
     "output_type": "display_data"
    }
   ],
   "source": [
    "#print(J_histories)\n",
    "z = J_histories\n",
    "fig, ax = plt.subplots(1, 1,figsize=(10, 8))\n",
    "ax.contour(x,y,z)\n",
    "plt.show()"
   ]
  },
  {
   "cell_type": "code",
   "execution_count": 552,
   "metadata": {},
   "outputs": [
    {
     "data": {
      "application/vnd.plotly.v1+json": {
       "config": {
        "plotlyServerURL": "https://plot.ly"
       },
       "data": [
        {
         "contours": {
          "coloring": "lines",
          "showlabels": true
         },
         "line": {
          "width": 2
         },
         "type": "contour",
         "x": [
          1,
          1.75,
          2.5,
          3.25,
          4,
          4.75,
          5.5,
          6.25,
          7,
          7.75,
          8.5,
          9.25,
          10,
          10.75,
          11.5,
          12.25,
          13,
          13.75,
          14.5,
          15.25,
          16,
          16.75,
          17.5,
          18.25,
          19,
          19.75,
          20.5,
          21.25,
          22,
          22.75,
          23.5,
          24.25,
          25,
          25.75,
          26.5,
          27.25,
          28,
          28.75,
          29.5,
          30.25
         ],
         "y": [
          0.001,
          0.003,
          0.005,
          0.007,
          0.009000000000000001,
          0.011,
          0.013000000000000001,
          0.015,
          0.017,
          0.019000000000000003,
          0.021,
          0.023
         ],
         "z": [
          [
           27.94761974682486,
           24.47289936878686,
           21.546014372181737,
           19.080578470011066,
           17.003827337947612,
           15.254470612915163,
           13.780882602778636,
           12.53957829693016,
           11.49392968963366,
           10.613084522018333,
           9.87105552400589,
           9.24595327061122,
           8.719340006549618,
           8.275685364065547,
           7.901907906784134,
           7.58698896596878,
           7.3216473696388755,
           7.098065462557548,
           6.909658329204911,
           6.750879407203457,
           6.617056752907819,
           6.504255125722265,
           6.409159819877735,
           6.328978814384741,
           6.261360352630684,
           6.2043235185728784,
           6.156199760137971,
           6.1155836335995,
           6.081291314908751,
           6.052325653234089,
           6.027846735090004,
           6.0071470901095285,
           5.989630806534878,
           5.974795939916073,
           5.962219695722612,
           5.951545948459218,
           5.942474728850203,
           5.934753368754301,
           5.928169042408083,
           5.922542483815581
          ],
          [
           20.758431345144743,
           14.33684247589595,
           10.691891389240086,
           8.622695484373281,
           7.447748471780988,
           6.780292459606751,
           6.400840600194315,
           6.184833117417725,
           6.061581776112977,
           5.990970683429655,
           5.950233888580776,
           5.926451611103131,
           5.912291816573025,
           5.903593541630853,
           5.89799542003978,
           5.894157365042357,
           5.891318870589776,
           5.889048345298575,
           5.887100858341243,
           5.885337409597939,
           5.883679115103735,
           5.882081207083403,
           5.8805182788539785,
           5.878975911240449,
           5.877445920528933,
           5.875923661658663,
           5.874406497771295,
           5.87289293167324,
           5.871382112936626,
           5.869873558176859,
           5.868366992308887,
           5.866862258459414,
           5.865359266841666,
           5.863857965741601,
           5.862358325052442,
           5.860860326930452,
           5.859363960492048,
           5.857869218804379,
           5.85637609717747,
           5.854884592195017
          ],
          [
           14.983962756239945,
           9.056203941047661,
           6.998880978009587,
           6.283756679195573,
           6.034085104841373,
           5.945826960067563,
           5.913547030682456,
           5.900682327431495,
           5.894553475901442,
           5.890763497940393,
           5.887787597368802,
           5.885096997646216,
           5.8825083234460624,
           5.879957978209342,
           5.8774239024498245,
           5.874898440980177,
           5.872378933767393,
           5.8698644530153326,
           5.867354671645216,
           5.864849470905554,
           5.862348804298512,
           5.859852650392074,
           5.8573609964561415,
           5.854873832787822,
           5.852391150743548,
           5.849912942056599,
           5.847439198600441,
           5.844969912306627,
           5.842505075136321,
           5.840044679070392,
           5.837588716105965,
           5.83513717825522,
           5.832690057544945,
           5.830247346016372,
           5.82780903572509,
           5.8253751187410225,
           5.822945587148375,
           5.820520433045626,
           5.818099648545484,
           5.815683225774871
          ],
          [
           10.624213980110477,
           6.757417155882004,
           6.057876850896913,
           5.928907547964801,
           5.902730861236294,
           5.895079113028457,
           5.890771933975223,
           5.88707464679595,
           5.883494596050563,
           5.8799430140360585,
           5.876403891212306,
           5.87287432506188,
           5.869353774270776,
           5.865842122929093,
           5.862339331807489,
           5.858845375536474,
           5.85536023128949,
           5.85188387674412,
           5.8484162897146925,
           5.844957448085977,
           5.841507329801136,
           5.838065912859424,
           5.834633175315671,
           5.831209095280066,
           5.8277936509180135,
           5.824386820449977,
           5.820988582151358,
           5.817598914352343,
           5.814217795437776,
           5.810845203847005,
           5.807481118073766,
           5.804125516666033,
           5.800778378225874,
           5.7974396814093305,
           5.794109404926277,
           5.790787527540276,
           5.787474028068455,
           5.784168885381358,
           5.78087207840283,
           5.7775835861098574
          ],
          [
           7.679185016756334,
           6.026013524728862,
           5.909950110221885,
           5.897798698616645,
           5.892684989179207,
           5.888060896284361,
           5.883483768999434,
           5.878923642178009,
           5.874378445556908,
           5.869847994521658,
           5.8653322320596,
           5.860831109927463,
           5.856344580618639,
           5.851872596819761,
           5.847415111373502,
           5.842972077275606,
           5.838543447674211,
           5.8341291758693625,
           5.829729215312496,
           5.825343519605969,
           5.82097204250256,
           5.816614737904978,
           5.8122715598653905,
           5.807942462584917,
           5.8036274004131725,
           5.799326327847763,
           5.79503919953382,
           5.790765970263515,
           5.786506594975583,
           5.782261028754854,
           5.778029226831776,
           5.773811144581931,
           5.7696067375255895,
           5.765415961327218,
           5.761238771795022,
           5.757075124880481,
           5.7529249766778765,
           5.748788283423841,
           5.744665001496888,
           5.740555087416947
          ],
          [
           6.148875866177513,
           5.906622464607983,
           5.898807723807974,
           5.893155090428113,
           5.887544304203116,
           5.88195592423362,
           5.876389685811771,
           5.870845499611712,
           5.865323278252757,
           5.859822934714918,
           5.854344382323101,
           5.8488875347456055,
           5.843452305992744,
           5.838038610415512,
           5.832646362704225,
           5.827275477887175,
           5.821925871329296,
           5.816597458730826,
           5.811290156125977,
           5.80600387988162,
           5.800738546695957,
           5.79549407359722,
           5.79027037794235,
           5.785067377415703,
           5.779884990027757,
           5.774723134113805,
           5.769581728332688,
           5.764460691665494,
           5.759359943414294,
           5.754279403200866,
           5.749218990965426,
           5.7441786269653745,
           5.739158231774033,
           5.734157726279389,
           5.729177031682862,
           5.724216069498045,
           5.719274761549488,
           5.714353029971441,
           5.709450797206655,
           5.704567986005139
          ],
          [
           6.0332865283740205,
           5.9029714052290005,
           5.8957117505319,
           5.889067487320581,
           5.882457088311258,
           5.875877647391994,
           5.8693290065936425,
           5.862811021670953,
           5.856323549115572,
           5.849866446091248,
           5.843439570430373,
           5.837042780630875,
           5.830675935853081,
           5.824338895916623,
           5.818031521297361,
           5.811753673124296,
           5.805505213176527,
           5.7992860038801926,
           5.793095908305461,
           5.786934790163493,
           5.78080251380346,
           5.774698944209545,
           5.768623946997978,
           5.7625773884140745,
           5.756559135329287,
           5.750569055238282,
           5.744607016256011,
           5.738672887114819,
           5.732766537161546,
           5.726887836354653,
           5.7210366552613605,
           5.715212865054796,
           5.709416337511163,
           5.703646945006904,
           5.69790456051591,
           5.69218905760671,
           5.686500310439689,
           5.680838193764323,
           5.67520258291642,
           5.669593353815366
          ],
          [
           7.332417003345849,
           5.97788578899141,
           5.896859315832296,
           5.885220365137622,
           5.8773989167416,
           5.869824165932682,
           5.862301456082399,
           5.854819978731034,
           5.847378937936585,
           5.839978084105321,
           5.8326171985085775,
           5.82529606520628,
           5.818014469512059,
           5.81077219790372,
           5.803569038012448,
           5.796404778616338,
           5.789279209634181,
           5.782192122119308,
           5.775143308253467,
           5.768132561340715,
           5.761159675801369,
           5.754224447165977,
           5.747326672069313,
           5.7404661482444315,
           5.7336426745167115,
           5.726856050797977,
           5.720106078080625,
           5.713392558431786,
           5.706715294987526,
           5.7000740919470605,
           5.693468754567034,
           5.686899089155792,
           5.680364903067709,
           5.673866004697534,
           5.667402203474779,
           5.660973309858129,
           5.65457913532988,
           5.648219492390412,
           5.6418941945526955,
           5.635603056336818
          ],
          [
           10.04626729109301,
           6.553289070984579,
           5.993223337177487,
           5.89732672212324,
           5.874927916403833,
           5.864204116185344,
           5.855371782639969,
           5.846882432030814,
           5.83849075437498,
           5.830157664558207,
           5.821876713541745,
           5.8136466184604645,
           5.805466915585569,
           5.797337272409526,
           5.78925737877586,
           5.78122692964106,
           5.7732456223370745,
           5.765313156128522,
           5.75742923213309,
           5.749593553299472,
           5.74180582439447,
           5.734065751991597,
           5.726373044459971,
           5.718727411953337,
           5.711128566399131,
           5.703576221487631,
           5.696070092661169,
           5.688609897103407,
           5.681195353728688,
           5.6738261831714345,
           5.666502107775636,
           5.6592228515843725,
           5.651988140329427,
           5.644797701420952,
           5.637651263937194,
           5.630548558614286,
           5.623489317836104,
           5.616473275624184,
           5.609500167627704,
           5.602569731113514
          ],
          [
           14.174837391615497,
           8.51020271898775,
           6.7128539994923315,
           6.138096453487713,
           5.949875523952463,
           5.883893121890161,
           5.856597697737877,
           5.841576211346162,
           5.8304785383124935,
           5.820664696287361,
           5.811299823860314,
           5.8021197055832525,
           5.793040523502985,
           5.784035489834361,
           5.775095847445233,
           5.766218541119521,
           5.75740232012125,
           5.748646506104002,
           5.739950603602947,
           5.731314176888363,
           5.722736811022823,
           5.714218099537355,
           5.7057576405225765,
           5.697355035380163,
           5.689009888415348,
           5.680721806695424,
           5.67249039999238,
           5.664315280752264,
           5.6561960640730415,
           5.648132367685252,
           5.640123811933625,
           5.6321700197590765,
           5.624270616680921,
           5.616425230779232,
           5.608633492677314,
           5.6008950355243305,
           5.593209494978012,
           5.585576509187516,
           5.577995718776381,
           5.57046676682561
          ],
          [
           19.718127304913295,
           13.188746213470024,
           9.735640980544181,
           7.90712116260966,
           6.936564667169684,
           6.419126488736392,
           6.141012136965118,
           5.989318805942405,
           5.90442348420424,
           5.8548396376542895,
           5.8239392994774315,
           5.802941151391025,
           5.787207606219282,
           5.774289337785379,
           5.762892618572582,
           5.752333982050289,
           5.742252235812563,
           5.732456378859129,
           5.72284528836406,
           5.71336530712409,
           5.703987845940395,
           5.694697555667428,
           5.685486080987099,
           5.676348761831063,
           5.667282891423731,
           5.658286796359755,
           5.649359350788967,
           5.640499719848879,
           5.631707224160335,
           5.622981268255455,
           5.614321302767587,
           5.605726804450716,
           5.597197265614529,
           5.588732188531867,
           5.580331082472163,
           5.571993462121702,
           5.5637188467363865,
           5.55550675968139,
           5.5473567281752425,
           5.539268283141969
          ],
          [
           26.676137030986418,
           22.388137047590384,
           18.980536426287866,
           16.272114493084345,
           14.118956701129836,
           12.40677475175252,
           11.044807703796486,
           9.96097860727557,
           9.09804819772941,
           8.41056039527119,
           7.862416606543947,
           7.424949383528586,
           7.075392641053999,
           6.795666796999585,
           6.571414004859102,
           6.391231994377887,
           6.246065634587503,
           6.128723750332039,
           6.03349540746482,
           5.955845189985963,
           5.892171207753154,
           5.839612920981103,
           5.795898526190924,
           5.7592237594460185,
           5.728155649277452,
           5.701556083128417,
           5.67852110848511,
           5.658332729534224,
           5.640420627004351,
           5.624331758393836,
           5.609706216320094,
           5.596258056686803,
           5.5837600735768005,
           5.572031708393507,
           5.5609294480311116,
           5.550339199679379,
           5.540170235350991,
           5.5303503829866765,
           5.520822207516341,
           5.5115399780828245
          ]
         ]
        }
       ],
       "layout": {
        "template": {
         "data": {
          "bar": [
           {
            "error_x": {
             "color": "#2a3f5f"
            },
            "error_y": {
             "color": "#2a3f5f"
            },
            "marker": {
             "line": {
              "color": "#E5ECF6",
              "width": 0.5
             }
            },
            "type": "bar"
           }
          ],
          "barpolar": [
           {
            "marker": {
             "line": {
              "color": "#E5ECF6",
              "width": 0.5
             }
            },
            "type": "barpolar"
           }
          ],
          "carpet": [
           {
            "aaxis": {
             "endlinecolor": "#2a3f5f",
             "gridcolor": "white",
             "linecolor": "white",
             "minorgridcolor": "white",
             "startlinecolor": "#2a3f5f"
            },
            "baxis": {
             "endlinecolor": "#2a3f5f",
             "gridcolor": "white",
             "linecolor": "white",
             "minorgridcolor": "white",
             "startlinecolor": "#2a3f5f"
            },
            "type": "carpet"
           }
          ],
          "choropleth": [
           {
            "colorbar": {
             "outlinewidth": 0,
             "ticks": ""
            },
            "type": "choropleth"
           }
          ],
          "contour": [
           {
            "colorbar": {
             "outlinewidth": 0,
             "ticks": ""
            },
            "colorscale": [
             [
              0,
              "#0d0887"
             ],
             [
              0.1111111111111111,
              "#46039f"
             ],
             [
              0.2222222222222222,
              "#7201a8"
             ],
             [
              0.3333333333333333,
              "#9c179e"
             ],
             [
              0.4444444444444444,
              "#bd3786"
             ],
             [
              0.5555555555555556,
              "#d8576b"
             ],
             [
              0.6666666666666666,
              "#ed7953"
             ],
             [
              0.7777777777777778,
              "#fb9f3a"
             ],
             [
              0.8888888888888888,
              "#fdca26"
             ],
             [
              1,
              "#f0f921"
             ]
            ],
            "type": "contour"
           }
          ],
          "contourcarpet": [
           {
            "colorbar": {
             "outlinewidth": 0,
             "ticks": ""
            },
            "type": "contourcarpet"
           }
          ],
          "heatmap": [
           {
            "colorbar": {
             "outlinewidth": 0,
             "ticks": ""
            },
            "colorscale": [
             [
              0,
              "#0d0887"
             ],
             [
              0.1111111111111111,
              "#46039f"
             ],
             [
              0.2222222222222222,
              "#7201a8"
             ],
             [
              0.3333333333333333,
              "#9c179e"
             ],
             [
              0.4444444444444444,
              "#bd3786"
             ],
             [
              0.5555555555555556,
              "#d8576b"
             ],
             [
              0.6666666666666666,
              "#ed7953"
             ],
             [
              0.7777777777777778,
              "#fb9f3a"
             ],
             [
              0.8888888888888888,
              "#fdca26"
             ],
             [
              1,
              "#f0f921"
             ]
            ],
            "type": "heatmap"
           }
          ],
          "heatmapgl": [
           {
            "colorbar": {
             "outlinewidth": 0,
             "ticks": ""
            },
            "colorscale": [
             [
              0,
              "#0d0887"
             ],
             [
              0.1111111111111111,
              "#46039f"
             ],
             [
              0.2222222222222222,
              "#7201a8"
             ],
             [
              0.3333333333333333,
              "#9c179e"
             ],
             [
              0.4444444444444444,
              "#bd3786"
             ],
             [
              0.5555555555555556,
              "#d8576b"
             ],
             [
              0.6666666666666666,
              "#ed7953"
             ],
             [
              0.7777777777777778,
              "#fb9f3a"
             ],
             [
              0.8888888888888888,
              "#fdca26"
             ],
             [
              1,
              "#f0f921"
             ]
            ],
            "type": "heatmapgl"
           }
          ],
          "histogram": [
           {
            "marker": {
             "colorbar": {
              "outlinewidth": 0,
              "ticks": ""
             }
            },
            "type": "histogram"
           }
          ],
          "histogram2d": [
           {
            "colorbar": {
             "outlinewidth": 0,
             "ticks": ""
            },
            "colorscale": [
             [
              0,
              "#0d0887"
             ],
             [
              0.1111111111111111,
              "#46039f"
             ],
             [
              0.2222222222222222,
              "#7201a8"
             ],
             [
              0.3333333333333333,
              "#9c179e"
             ],
             [
              0.4444444444444444,
              "#bd3786"
             ],
             [
              0.5555555555555556,
              "#d8576b"
             ],
             [
              0.6666666666666666,
              "#ed7953"
             ],
             [
              0.7777777777777778,
              "#fb9f3a"
             ],
             [
              0.8888888888888888,
              "#fdca26"
             ],
             [
              1,
              "#f0f921"
             ]
            ],
            "type": "histogram2d"
           }
          ],
          "histogram2dcontour": [
           {
            "colorbar": {
             "outlinewidth": 0,
             "ticks": ""
            },
            "colorscale": [
             [
              0,
              "#0d0887"
             ],
             [
              0.1111111111111111,
              "#46039f"
             ],
             [
              0.2222222222222222,
              "#7201a8"
             ],
             [
              0.3333333333333333,
              "#9c179e"
             ],
             [
              0.4444444444444444,
              "#bd3786"
             ],
             [
              0.5555555555555556,
              "#d8576b"
             ],
             [
              0.6666666666666666,
              "#ed7953"
             ],
             [
              0.7777777777777778,
              "#fb9f3a"
             ],
             [
              0.8888888888888888,
              "#fdca26"
             ],
             [
              1,
              "#f0f921"
             ]
            ],
            "type": "histogram2dcontour"
           }
          ],
          "mesh3d": [
           {
            "colorbar": {
             "outlinewidth": 0,
             "ticks": ""
            },
            "type": "mesh3d"
           }
          ],
          "parcoords": [
           {
            "line": {
             "colorbar": {
              "outlinewidth": 0,
              "ticks": ""
             }
            },
            "type": "parcoords"
           }
          ],
          "pie": [
           {
            "automargin": true,
            "type": "pie"
           }
          ],
          "scatter": [
           {
            "marker": {
             "colorbar": {
              "outlinewidth": 0,
              "ticks": ""
             }
            },
            "type": "scatter"
           }
          ],
          "scatter3d": [
           {
            "line": {
             "colorbar": {
              "outlinewidth": 0,
              "ticks": ""
             }
            },
            "marker": {
             "colorbar": {
              "outlinewidth": 0,
              "ticks": ""
             }
            },
            "type": "scatter3d"
           }
          ],
          "scattercarpet": [
           {
            "marker": {
             "colorbar": {
              "outlinewidth": 0,
              "ticks": ""
             }
            },
            "type": "scattercarpet"
           }
          ],
          "scattergeo": [
           {
            "marker": {
             "colorbar": {
              "outlinewidth": 0,
              "ticks": ""
             }
            },
            "type": "scattergeo"
           }
          ],
          "scattergl": [
           {
            "marker": {
             "colorbar": {
              "outlinewidth": 0,
              "ticks": ""
             }
            },
            "type": "scattergl"
           }
          ],
          "scattermapbox": [
           {
            "marker": {
             "colorbar": {
              "outlinewidth": 0,
              "ticks": ""
             }
            },
            "type": "scattermapbox"
           }
          ],
          "scatterpolar": [
           {
            "marker": {
             "colorbar": {
              "outlinewidth": 0,
              "ticks": ""
             }
            },
            "type": "scatterpolar"
           }
          ],
          "scatterpolargl": [
           {
            "marker": {
             "colorbar": {
              "outlinewidth": 0,
              "ticks": ""
             }
            },
            "type": "scatterpolargl"
           }
          ],
          "scatterternary": [
           {
            "marker": {
             "colorbar": {
              "outlinewidth": 0,
              "ticks": ""
             }
            },
            "type": "scatterternary"
           }
          ],
          "surface": [
           {
            "colorbar": {
             "outlinewidth": 0,
             "ticks": ""
            },
            "colorscale": [
             [
              0,
              "#0d0887"
             ],
             [
              0.1111111111111111,
              "#46039f"
             ],
             [
              0.2222222222222222,
              "#7201a8"
             ],
             [
              0.3333333333333333,
              "#9c179e"
             ],
             [
              0.4444444444444444,
              "#bd3786"
             ],
             [
              0.5555555555555556,
              "#d8576b"
             ],
             [
              0.6666666666666666,
              "#ed7953"
             ],
             [
              0.7777777777777778,
              "#fb9f3a"
             ],
             [
              0.8888888888888888,
              "#fdca26"
             ],
             [
              1,
              "#f0f921"
             ]
            ],
            "type": "surface"
           }
          ],
          "table": [
           {
            "cells": {
             "fill": {
              "color": "#EBF0F8"
             },
             "line": {
              "color": "white"
             }
            },
            "header": {
             "fill": {
              "color": "#C8D4E3"
             },
             "line": {
              "color": "white"
             }
            },
            "type": "table"
           }
          ]
         },
         "layout": {
          "annotationdefaults": {
           "arrowcolor": "#2a3f5f",
           "arrowhead": 0,
           "arrowwidth": 1
          },
          "coloraxis": {
           "colorbar": {
            "outlinewidth": 0,
            "ticks": ""
           }
          },
          "colorscale": {
           "diverging": [
            [
             0,
             "#8e0152"
            ],
            [
             0.1,
             "#c51b7d"
            ],
            [
             0.2,
             "#de77ae"
            ],
            [
             0.3,
             "#f1b6da"
            ],
            [
             0.4,
             "#fde0ef"
            ],
            [
             0.5,
             "#f7f7f7"
            ],
            [
             0.6,
             "#e6f5d0"
            ],
            [
             0.7,
             "#b8e186"
            ],
            [
             0.8,
             "#7fbc41"
            ],
            [
             0.9,
             "#4d9221"
            ],
            [
             1,
             "#276419"
            ]
           ],
           "sequential": [
            [
             0,
             "#0d0887"
            ],
            [
             0.1111111111111111,
             "#46039f"
            ],
            [
             0.2222222222222222,
             "#7201a8"
            ],
            [
             0.3333333333333333,
             "#9c179e"
            ],
            [
             0.4444444444444444,
             "#bd3786"
            ],
            [
             0.5555555555555556,
             "#d8576b"
            ],
            [
             0.6666666666666666,
             "#ed7953"
            ],
            [
             0.7777777777777778,
             "#fb9f3a"
            ],
            [
             0.8888888888888888,
             "#fdca26"
            ],
            [
             1,
             "#f0f921"
            ]
           ],
           "sequentialminus": [
            [
             0,
             "#0d0887"
            ],
            [
             0.1111111111111111,
             "#46039f"
            ],
            [
             0.2222222222222222,
             "#7201a8"
            ],
            [
             0.3333333333333333,
             "#9c179e"
            ],
            [
             0.4444444444444444,
             "#bd3786"
            ],
            [
             0.5555555555555556,
             "#d8576b"
            ],
            [
             0.6666666666666666,
             "#ed7953"
            ],
            [
             0.7777777777777778,
             "#fb9f3a"
            ],
            [
             0.8888888888888888,
             "#fdca26"
            ],
            [
             1,
             "#f0f921"
            ]
           ]
          },
          "colorway": [
           "#636efa",
           "#EF553B",
           "#00cc96",
           "#ab63fa",
           "#FFA15A",
           "#19d3f3",
           "#FF6692",
           "#B6E880",
           "#FF97FF",
           "#FECB52"
          ],
          "font": {
           "color": "#2a3f5f"
          },
          "geo": {
           "bgcolor": "white",
           "lakecolor": "white",
           "landcolor": "#E5ECF6",
           "showlakes": true,
           "showland": true,
           "subunitcolor": "white"
          },
          "hoverlabel": {
           "align": "left"
          },
          "hovermode": "closest",
          "mapbox": {
           "style": "light"
          },
          "paper_bgcolor": "white",
          "plot_bgcolor": "#E5ECF6",
          "polar": {
           "angularaxis": {
            "gridcolor": "white",
            "linecolor": "white",
            "ticks": ""
           },
           "bgcolor": "#E5ECF6",
           "radialaxis": {
            "gridcolor": "white",
            "linecolor": "white",
            "ticks": ""
           }
          },
          "scene": {
           "xaxis": {
            "backgroundcolor": "#E5ECF6",
            "gridcolor": "white",
            "gridwidth": 2,
            "linecolor": "white",
            "showbackground": true,
            "ticks": "",
            "zerolinecolor": "white"
           },
           "yaxis": {
            "backgroundcolor": "#E5ECF6",
            "gridcolor": "white",
            "gridwidth": 2,
            "linecolor": "white",
            "showbackground": true,
            "ticks": "",
            "zerolinecolor": "white"
           },
           "zaxis": {
            "backgroundcolor": "#E5ECF6",
            "gridcolor": "white",
            "gridwidth": 2,
            "linecolor": "white",
            "showbackground": true,
            "ticks": "",
            "zerolinecolor": "white"
           }
          },
          "shapedefaults": {
           "line": {
            "color": "#2a3f5f"
           }
          },
          "ternary": {
           "aaxis": {
            "gridcolor": "white",
            "linecolor": "white",
            "ticks": ""
           },
           "baxis": {
            "gridcolor": "white",
            "linecolor": "white",
            "ticks": ""
           },
           "bgcolor": "#E5ECF6",
           "caxis": {
            "gridcolor": "white",
            "linecolor": "white",
            "ticks": ""
           }
          },
          "title": {
           "x": 0.05
          },
          "xaxis": {
           "automargin": true,
           "gridcolor": "white",
           "linecolor": "white",
           "ticks": "",
           "title": {
            "standoff": 15
           },
           "zerolinecolor": "white",
           "zerolinewidth": 2
          },
          "yaxis": {
           "automargin": true,
           "gridcolor": "white",
           "linecolor": "white",
           "ticks": "",
           "title": {
            "standoff": 15
           },
           "zerolinecolor": "white",
           "zerolinewidth": 2
          }
         }
        }
       }
      },
      "text/html": [
       "<div>\n",
       "        \n",
       "        \n",
       "            <div id=\"12359b42-fc51-4111-b067-9ef8f873b3b4\" class=\"plotly-graph-div\" style=\"height:525px; width:100%;\"></div>\n",
       "            <script type=\"text/javascript\">\n",
       "                require([\"plotly\"], function(Plotly) {\n",
       "                    window.PLOTLYENV=window.PLOTLYENV || {};\n",
       "                    \n",
       "                if (document.getElementById(\"12359b42-fc51-4111-b067-9ef8f873b3b4\")) {\n",
       "                    Plotly.newPlot(\n",
       "                        '12359b42-fc51-4111-b067-9ef8f873b3b4',\n",
       "                        [{\"contours\": {\"coloring\": \"lines\", \"showlabels\": true}, \"line\": {\"width\": 2}, \"type\": \"contour\", \"x\": [1.0, 1.75, 2.5, 3.25, 4.0, 4.75, 5.5, 6.25, 7.0, 7.75, 8.5, 9.25, 10.0, 10.75, 11.5, 12.25, 13.0, 13.75, 14.5, 15.25, 16.0, 16.75, 17.5, 18.25, 19.0, 19.75, 20.5, 21.25, 22.0, 22.75, 23.5, 24.25, 25.0, 25.75, 26.5, 27.25, 28.0, 28.75, 29.5, 30.25], \"y\": [0.001, 0.003, 0.005, 0.007, 0.009000000000000001, 0.011, 0.013000000000000001, 0.015, 0.017, 0.019000000000000003, 0.021, 0.023], \"z\": [[27.94761974682486, 24.47289936878686, 21.546014372181737, 19.080578470011066, 17.003827337947612, 15.254470612915163, 13.780882602778636, 12.53957829693016, 11.49392968963366, 10.613084522018333, 9.87105552400589, 9.24595327061122, 8.719340006549618, 8.275685364065547, 7.901907906784134, 7.58698896596878, 7.3216473696388755, 7.098065462557548, 6.909658329204911, 6.750879407203457, 6.617056752907819, 6.504255125722265, 6.409159819877735, 6.328978814384741, 6.261360352630684, 6.2043235185728784, 6.156199760137971, 6.1155836335995, 6.081291314908751, 6.052325653234089, 6.027846735090004, 6.0071470901095285, 5.989630806534878, 5.974795939916073, 5.962219695722612, 5.951545948459218, 5.942474728850203, 5.934753368754301, 5.928169042408083, 5.922542483815581], [20.758431345144743, 14.33684247589595, 10.691891389240086, 8.622695484373281, 7.447748471780988, 6.780292459606751, 6.400840600194315, 6.184833117417725, 6.061581776112977, 5.990970683429655, 5.950233888580776, 5.926451611103131, 5.912291816573025, 5.903593541630853, 5.89799542003978, 5.894157365042357, 5.891318870589776, 5.889048345298575, 5.887100858341243, 5.885337409597939, 5.883679115103735, 5.882081207083403, 5.8805182788539785, 5.878975911240449, 5.877445920528933, 5.875923661658663, 5.874406497771295, 5.87289293167324, 5.871382112936626, 5.869873558176859, 5.868366992308887, 5.866862258459414, 5.865359266841666, 5.863857965741601, 5.862358325052442, 5.860860326930452, 5.859363960492048, 5.857869218804379, 5.85637609717747, 5.854884592195017], [14.983962756239945, 9.056203941047661, 6.998880978009587, 6.283756679195573, 6.034085104841373, 5.945826960067563, 5.913547030682456, 5.900682327431495, 5.894553475901442, 5.890763497940393, 5.887787597368802, 5.885096997646216, 5.8825083234460624, 5.879957978209342, 5.8774239024498245, 5.874898440980177, 5.872378933767393, 5.8698644530153326, 5.867354671645216, 5.864849470905554, 5.862348804298512, 5.859852650392074, 5.8573609964561415, 5.854873832787822, 5.852391150743548, 5.849912942056599, 5.847439198600441, 5.844969912306627, 5.842505075136321, 5.840044679070392, 5.837588716105965, 5.83513717825522, 5.832690057544945, 5.830247346016372, 5.82780903572509, 5.8253751187410225, 5.822945587148375, 5.820520433045626, 5.818099648545484, 5.815683225774871], [10.624213980110477, 6.757417155882004, 6.057876850896913, 5.928907547964801, 5.902730861236294, 5.895079113028457, 5.890771933975223, 5.88707464679595, 5.883494596050563, 5.8799430140360585, 5.876403891212306, 5.87287432506188, 5.869353774270776, 5.865842122929093, 5.862339331807489, 5.858845375536474, 5.85536023128949, 5.85188387674412, 5.8484162897146925, 5.844957448085977, 5.841507329801136, 5.838065912859424, 5.834633175315671, 5.831209095280066, 5.8277936509180135, 5.824386820449977, 5.820988582151358, 5.817598914352343, 5.814217795437776, 5.810845203847005, 5.807481118073766, 5.804125516666033, 5.800778378225874, 5.7974396814093305, 5.794109404926277, 5.790787527540276, 5.787474028068455, 5.784168885381358, 5.78087207840283, 5.7775835861098574], [7.679185016756334, 6.026013524728862, 5.909950110221885, 5.897798698616645, 5.892684989179207, 5.888060896284361, 5.883483768999434, 5.878923642178009, 5.874378445556908, 5.869847994521658, 5.8653322320596, 5.860831109927463, 5.856344580618639, 5.851872596819761, 5.847415111373502, 5.842972077275606, 5.838543447674211, 5.8341291758693625, 5.829729215312496, 5.825343519605969, 5.82097204250256, 5.816614737904978, 5.8122715598653905, 5.807942462584917, 5.8036274004131725, 5.799326327847763, 5.79503919953382, 5.790765970263515, 5.786506594975583, 5.782261028754854, 5.778029226831776, 5.773811144581931, 5.7696067375255895, 5.765415961327218, 5.761238771795022, 5.757075124880481, 5.7529249766778765, 5.748788283423841, 5.744665001496888, 5.740555087416947], [6.148875866177513, 5.906622464607983, 5.898807723807974, 5.893155090428113, 5.887544304203116, 5.88195592423362, 5.876389685811771, 5.870845499611712, 5.865323278252757, 5.859822934714918, 5.854344382323101, 5.8488875347456055, 5.843452305992744, 5.838038610415512, 5.832646362704225, 5.827275477887175, 5.821925871329296, 5.816597458730826, 5.811290156125977, 5.80600387988162, 5.800738546695957, 5.79549407359722, 5.79027037794235, 5.785067377415703, 5.779884990027757, 5.774723134113805, 5.769581728332688, 5.764460691665494, 5.759359943414294, 5.754279403200866, 5.749218990965426, 5.7441786269653745, 5.739158231774033, 5.734157726279389, 5.729177031682862, 5.724216069498045, 5.719274761549488, 5.714353029971441, 5.709450797206655, 5.704567986005139], [6.0332865283740205, 5.9029714052290005, 5.8957117505319, 5.889067487320581, 5.882457088311258, 5.875877647391994, 5.8693290065936425, 5.862811021670953, 5.856323549115572, 5.849866446091248, 5.843439570430373, 5.837042780630875, 5.830675935853081, 5.824338895916623, 5.818031521297361, 5.811753673124296, 5.805505213176527, 5.7992860038801926, 5.793095908305461, 5.786934790163493, 5.78080251380346, 5.774698944209545, 5.768623946997978, 5.7625773884140745, 5.756559135329287, 5.750569055238282, 5.744607016256011, 5.738672887114819, 5.732766537161546, 5.726887836354653, 5.7210366552613605, 5.715212865054796, 5.709416337511163, 5.703646945006904, 5.69790456051591, 5.69218905760671, 5.686500310439689, 5.680838193764323, 5.67520258291642, 5.669593353815366], [7.332417003345849, 5.97788578899141, 5.896859315832296, 5.885220365137622, 5.8773989167416, 5.869824165932682, 5.862301456082399, 5.854819978731034, 5.847378937936585, 5.839978084105321, 5.8326171985085775, 5.82529606520628, 5.818014469512059, 5.81077219790372, 5.803569038012448, 5.796404778616338, 5.789279209634181, 5.782192122119308, 5.775143308253467, 5.768132561340715, 5.761159675801369, 5.754224447165977, 5.747326672069313, 5.7404661482444315, 5.7336426745167115, 5.726856050797977, 5.720106078080625, 5.713392558431786, 5.706715294987526, 5.7000740919470605, 5.693468754567034, 5.686899089155792, 5.680364903067709, 5.673866004697534, 5.667402203474779, 5.660973309858129, 5.65457913532988, 5.648219492390412, 5.6418941945526955, 5.635603056336818], [10.04626729109301, 6.553289070984579, 5.993223337177487, 5.89732672212324, 5.874927916403833, 5.864204116185344, 5.855371782639969, 5.846882432030814, 5.83849075437498, 5.830157664558207, 5.821876713541745, 5.8136466184604645, 5.805466915585569, 5.797337272409526, 5.78925737877586, 5.78122692964106, 5.7732456223370745, 5.765313156128522, 5.75742923213309, 5.749593553299472, 5.74180582439447, 5.734065751991597, 5.726373044459971, 5.718727411953337, 5.711128566399131, 5.703576221487631, 5.696070092661169, 5.688609897103407, 5.681195353728688, 5.6738261831714345, 5.666502107775636, 5.6592228515843725, 5.651988140329427, 5.644797701420952, 5.637651263937194, 5.630548558614286, 5.623489317836104, 5.616473275624184, 5.609500167627704, 5.602569731113514], [14.174837391615497, 8.51020271898775, 6.7128539994923315, 6.138096453487713, 5.949875523952463, 5.883893121890161, 5.856597697737877, 5.841576211346162, 5.8304785383124935, 5.820664696287361, 5.811299823860314, 5.8021197055832525, 5.793040523502985, 5.784035489834361, 5.775095847445233, 5.766218541119521, 5.75740232012125, 5.748646506104002, 5.739950603602947, 5.731314176888363, 5.722736811022823, 5.714218099537355, 5.7057576405225765, 5.697355035380163, 5.689009888415348, 5.680721806695424, 5.67249039999238, 5.664315280752264, 5.6561960640730415, 5.648132367685252, 5.640123811933625, 5.6321700197590765, 5.624270616680921, 5.616425230779232, 5.608633492677314, 5.6008950355243305, 5.593209494978012, 5.585576509187516, 5.577995718776381, 5.57046676682561], [19.718127304913295, 13.188746213470024, 9.735640980544181, 7.90712116260966, 6.936564667169684, 6.419126488736392, 6.141012136965118, 5.989318805942405, 5.90442348420424, 5.8548396376542895, 5.8239392994774315, 5.802941151391025, 5.787207606219282, 5.774289337785379, 5.762892618572582, 5.752333982050289, 5.742252235812563, 5.732456378859129, 5.72284528836406, 5.71336530712409, 5.703987845940395, 5.694697555667428, 5.685486080987099, 5.676348761831063, 5.667282891423731, 5.658286796359755, 5.649359350788967, 5.640499719848879, 5.631707224160335, 5.622981268255455, 5.614321302767587, 5.605726804450716, 5.597197265614529, 5.588732188531867, 5.580331082472163, 5.571993462121702, 5.5637188467363865, 5.55550675968139, 5.5473567281752425, 5.539268283141969], [26.676137030986418, 22.388137047590384, 18.980536426287866, 16.272114493084345, 14.118956701129836, 12.40677475175252, 11.044807703796486, 9.96097860727557, 9.09804819772941, 8.41056039527119, 7.862416606543947, 7.424949383528586, 7.075392641053999, 6.795666796999585, 6.571414004859102, 6.391231994377887, 6.246065634587503, 6.128723750332039, 6.03349540746482, 5.955845189985963, 5.892171207753154, 5.839612920981103, 5.795898526190924, 5.7592237594460185, 5.728155649277452, 5.701556083128417, 5.67852110848511, 5.658332729534224, 5.640420627004351, 5.624331758393836, 5.609706216320094, 5.596258056686803, 5.5837600735768005, 5.572031708393507, 5.5609294480311116, 5.550339199679379, 5.540170235350991, 5.5303503829866765, 5.520822207516341, 5.5115399780828245]]}],\n",
       "                        {\"template\": {\"data\": {\"bar\": [{\"error_x\": {\"color\": \"#2a3f5f\"}, \"error_y\": {\"color\": \"#2a3f5f\"}, \"marker\": {\"line\": {\"color\": \"#E5ECF6\", \"width\": 0.5}}, \"type\": \"bar\"}], \"barpolar\": [{\"marker\": {\"line\": {\"color\": \"#E5ECF6\", \"width\": 0.5}}, \"type\": \"barpolar\"}], \"carpet\": [{\"aaxis\": {\"endlinecolor\": \"#2a3f5f\", \"gridcolor\": \"white\", \"linecolor\": \"white\", \"minorgridcolor\": \"white\", \"startlinecolor\": \"#2a3f5f\"}, \"baxis\": {\"endlinecolor\": \"#2a3f5f\", \"gridcolor\": \"white\", \"linecolor\": \"white\", \"minorgridcolor\": \"white\", \"startlinecolor\": \"#2a3f5f\"}, \"type\": \"carpet\"}], \"choropleth\": [{\"colorbar\": {\"outlinewidth\": 0, \"ticks\": \"\"}, \"type\": \"choropleth\"}], \"contour\": [{\"colorbar\": {\"outlinewidth\": 0, \"ticks\": \"\"}, \"colorscale\": [[0.0, \"#0d0887\"], [0.1111111111111111, \"#46039f\"], [0.2222222222222222, \"#7201a8\"], [0.3333333333333333, \"#9c179e\"], [0.4444444444444444, \"#bd3786\"], [0.5555555555555556, \"#d8576b\"], [0.6666666666666666, \"#ed7953\"], [0.7777777777777778, \"#fb9f3a\"], [0.8888888888888888, \"#fdca26\"], [1.0, \"#f0f921\"]], \"type\": \"contour\"}], \"contourcarpet\": [{\"colorbar\": {\"outlinewidth\": 0, \"ticks\": \"\"}, \"type\": \"contourcarpet\"}], \"heatmap\": [{\"colorbar\": {\"outlinewidth\": 0, \"ticks\": \"\"}, \"colorscale\": [[0.0, \"#0d0887\"], [0.1111111111111111, \"#46039f\"], [0.2222222222222222, \"#7201a8\"], [0.3333333333333333, \"#9c179e\"], [0.4444444444444444, \"#bd3786\"], [0.5555555555555556, \"#d8576b\"], [0.6666666666666666, \"#ed7953\"], [0.7777777777777778, \"#fb9f3a\"], [0.8888888888888888, \"#fdca26\"], [1.0, \"#f0f921\"]], \"type\": \"heatmap\"}], \"heatmapgl\": [{\"colorbar\": {\"outlinewidth\": 0, \"ticks\": \"\"}, \"colorscale\": [[0.0, \"#0d0887\"], [0.1111111111111111, \"#46039f\"], [0.2222222222222222, \"#7201a8\"], [0.3333333333333333, \"#9c179e\"], [0.4444444444444444, \"#bd3786\"], [0.5555555555555556, \"#d8576b\"], [0.6666666666666666, \"#ed7953\"], [0.7777777777777778, \"#fb9f3a\"], [0.8888888888888888, \"#fdca26\"], [1.0, \"#f0f921\"]], \"type\": \"heatmapgl\"}], \"histogram\": [{\"marker\": {\"colorbar\": {\"outlinewidth\": 0, \"ticks\": \"\"}}, \"type\": \"histogram\"}], \"histogram2d\": [{\"colorbar\": {\"outlinewidth\": 0, \"ticks\": \"\"}, \"colorscale\": [[0.0, \"#0d0887\"], [0.1111111111111111, \"#46039f\"], [0.2222222222222222, \"#7201a8\"], [0.3333333333333333, \"#9c179e\"], [0.4444444444444444, \"#bd3786\"], [0.5555555555555556, \"#d8576b\"], [0.6666666666666666, \"#ed7953\"], [0.7777777777777778, \"#fb9f3a\"], [0.8888888888888888, \"#fdca26\"], [1.0, \"#f0f921\"]], \"type\": \"histogram2d\"}], \"histogram2dcontour\": [{\"colorbar\": {\"outlinewidth\": 0, \"ticks\": \"\"}, \"colorscale\": [[0.0, \"#0d0887\"], [0.1111111111111111, \"#46039f\"], [0.2222222222222222, \"#7201a8\"], [0.3333333333333333, \"#9c179e\"], [0.4444444444444444, \"#bd3786\"], [0.5555555555555556, \"#d8576b\"], [0.6666666666666666, \"#ed7953\"], [0.7777777777777778, \"#fb9f3a\"], [0.8888888888888888, \"#fdca26\"], [1.0, \"#f0f921\"]], \"type\": \"histogram2dcontour\"}], \"mesh3d\": [{\"colorbar\": {\"outlinewidth\": 0, \"ticks\": \"\"}, \"type\": \"mesh3d\"}], \"parcoords\": [{\"line\": {\"colorbar\": {\"outlinewidth\": 0, \"ticks\": \"\"}}, \"type\": \"parcoords\"}], \"pie\": [{\"automargin\": true, \"type\": \"pie\"}], \"scatter\": [{\"marker\": {\"colorbar\": {\"outlinewidth\": 0, \"ticks\": \"\"}}, \"type\": \"scatter\"}], \"scatter3d\": [{\"line\": {\"colorbar\": {\"outlinewidth\": 0, \"ticks\": \"\"}}, \"marker\": {\"colorbar\": {\"outlinewidth\": 0, \"ticks\": \"\"}}, \"type\": \"scatter3d\"}], \"scattercarpet\": [{\"marker\": {\"colorbar\": {\"outlinewidth\": 0, \"ticks\": \"\"}}, \"type\": \"scattercarpet\"}], \"scattergeo\": [{\"marker\": {\"colorbar\": {\"outlinewidth\": 0, \"ticks\": \"\"}}, \"type\": \"scattergeo\"}], \"scattergl\": [{\"marker\": {\"colorbar\": {\"outlinewidth\": 0, \"ticks\": \"\"}}, \"type\": \"scattergl\"}], \"scattermapbox\": [{\"marker\": {\"colorbar\": {\"outlinewidth\": 0, \"ticks\": \"\"}}, \"type\": \"scattermapbox\"}], \"scatterpolar\": [{\"marker\": {\"colorbar\": {\"outlinewidth\": 0, \"ticks\": \"\"}}, \"type\": \"scatterpolar\"}], \"scatterpolargl\": [{\"marker\": {\"colorbar\": {\"outlinewidth\": 0, \"ticks\": \"\"}}, \"type\": \"scatterpolargl\"}], \"scatterternary\": [{\"marker\": {\"colorbar\": {\"outlinewidth\": 0, \"ticks\": \"\"}}, \"type\": \"scatterternary\"}], \"surface\": [{\"colorbar\": {\"outlinewidth\": 0, \"ticks\": \"\"}, \"colorscale\": [[0.0, \"#0d0887\"], [0.1111111111111111, \"#46039f\"], [0.2222222222222222, \"#7201a8\"], [0.3333333333333333, \"#9c179e\"], [0.4444444444444444, \"#bd3786\"], [0.5555555555555556, \"#d8576b\"], [0.6666666666666666, \"#ed7953\"], [0.7777777777777778, \"#fb9f3a\"], [0.8888888888888888, \"#fdca26\"], [1.0, \"#f0f921\"]], \"type\": \"surface\"}], \"table\": [{\"cells\": {\"fill\": {\"color\": \"#EBF0F8\"}, \"line\": {\"color\": \"white\"}}, \"header\": {\"fill\": {\"color\": \"#C8D4E3\"}, \"line\": {\"color\": \"white\"}}, \"type\": \"table\"}]}, \"layout\": {\"annotationdefaults\": {\"arrowcolor\": \"#2a3f5f\", \"arrowhead\": 0, \"arrowwidth\": 1}, \"coloraxis\": {\"colorbar\": {\"outlinewidth\": 0, \"ticks\": \"\"}}, \"colorscale\": {\"diverging\": [[0, \"#8e0152\"], [0.1, \"#c51b7d\"], [0.2, \"#de77ae\"], [0.3, \"#f1b6da\"], [0.4, \"#fde0ef\"], [0.5, \"#f7f7f7\"], [0.6, \"#e6f5d0\"], [0.7, \"#b8e186\"], [0.8, \"#7fbc41\"], [0.9, \"#4d9221\"], [1, \"#276419\"]], \"sequential\": [[0.0, \"#0d0887\"], [0.1111111111111111, \"#46039f\"], [0.2222222222222222, \"#7201a8\"], [0.3333333333333333, \"#9c179e\"], [0.4444444444444444, \"#bd3786\"], [0.5555555555555556, \"#d8576b\"], [0.6666666666666666, \"#ed7953\"], [0.7777777777777778, \"#fb9f3a\"], [0.8888888888888888, \"#fdca26\"], [1.0, \"#f0f921\"]], \"sequentialminus\": [[0.0, \"#0d0887\"], [0.1111111111111111, \"#46039f\"], [0.2222222222222222, \"#7201a8\"], [0.3333333333333333, \"#9c179e\"], [0.4444444444444444, \"#bd3786\"], [0.5555555555555556, \"#d8576b\"], [0.6666666666666666, \"#ed7953\"], [0.7777777777777778, \"#fb9f3a\"], [0.8888888888888888, \"#fdca26\"], [1.0, \"#f0f921\"]]}, \"colorway\": [\"#636efa\", \"#EF553B\", \"#00cc96\", \"#ab63fa\", \"#FFA15A\", \"#19d3f3\", \"#FF6692\", \"#B6E880\", \"#FF97FF\", \"#FECB52\"], \"font\": {\"color\": \"#2a3f5f\"}, \"geo\": {\"bgcolor\": \"white\", \"lakecolor\": \"white\", \"landcolor\": \"#E5ECF6\", \"showlakes\": true, \"showland\": true, \"subunitcolor\": \"white\"}, \"hoverlabel\": {\"align\": \"left\"}, \"hovermode\": \"closest\", \"mapbox\": {\"style\": \"light\"}, \"paper_bgcolor\": \"white\", \"plot_bgcolor\": \"#E5ECF6\", \"polar\": {\"angularaxis\": {\"gridcolor\": \"white\", \"linecolor\": \"white\", \"ticks\": \"\"}, \"bgcolor\": \"#E5ECF6\", \"radialaxis\": {\"gridcolor\": \"white\", \"linecolor\": \"white\", \"ticks\": \"\"}}, \"scene\": {\"xaxis\": {\"backgroundcolor\": \"#E5ECF6\", \"gridcolor\": \"white\", \"gridwidth\": 2, \"linecolor\": \"white\", \"showbackground\": true, \"ticks\": \"\", \"zerolinecolor\": \"white\"}, \"yaxis\": {\"backgroundcolor\": \"#E5ECF6\", \"gridcolor\": \"white\", \"gridwidth\": 2, \"linecolor\": \"white\", \"showbackground\": true, \"ticks\": \"\", \"zerolinecolor\": \"white\"}, \"zaxis\": {\"backgroundcolor\": \"#E5ECF6\", \"gridcolor\": \"white\", \"gridwidth\": 2, \"linecolor\": \"white\", \"showbackground\": true, \"ticks\": \"\", \"zerolinecolor\": \"white\"}}, \"shapedefaults\": {\"line\": {\"color\": \"#2a3f5f\"}}, \"ternary\": {\"aaxis\": {\"gridcolor\": \"white\", \"linecolor\": \"white\", \"ticks\": \"\"}, \"baxis\": {\"gridcolor\": \"white\", \"linecolor\": \"white\", \"ticks\": \"\"}, \"bgcolor\": \"#E5ECF6\", \"caxis\": {\"gridcolor\": \"white\", \"linecolor\": \"white\", \"ticks\": \"\"}}, \"title\": {\"x\": 0.05}, \"xaxis\": {\"automargin\": true, \"gridcolor\": \"white\", \"linecolor\": \"white\", \"ticks\": \"\", \"title\": {\"standoff\": 15}, \"zerolinecolor\": \"white\", \"zerolinewidth\": 2}, \"yaxis\": {\"automargin\": true, \"gridcolor\": \"white\", \"linecolor\": \"white\", \"ticks\": \"\", \"title\": {\"standoff\": 15}, \"zerolinecolor\": \"white\", \"zerolinewidth\": 2}}}},\n",
       "                        {\"responsive\": true}\n",
       "                    ).then(function(){\n",
       "                            \n",
       "var gd = document.getElementById('12359b42-fc51-4111-b067-9ef8f873b3b4');\n",
       "var x = new MutationObserver(function (mutations, observer) {{\n",
       "        var display = window.getComputedStyle(gd).display;\n",
       "        if (!display || display === 'none') {{\n",
       "            console.log([gd, 'removed!']);\n",
       "            Plotly.purge(gd);\n",
       "            observer.disconnect();\n",
       "        }}\n",
       "}});\n",
       "\n",
       "// Listen for the removal of the full notebook cells\n",
       "var notebookContainer = gd.closest('#notebook-container');\n",
       "if (notebookContainer) {{\n",
       "    x.observe(notebookContainer, {childList: true});\n",
       "}}\n",
       "\n",
       "// Listen for the clearing of the current output cell\n",
       "var outputEl = gd.closest('.output');\n",
       "if (outputEl) {{\n",
       "    x.observe(outputEl, {childList: true});\n",
       "}}\n",
       "\n",
       "                        })\n",
       "                };\n",
       "                });\n",
       "            </script>\n",
       "        </div>"
      ]
     },
     "metadata": {},
     "output_type": "display_data"
    }
   ],
   "source": [
    "import plotly.graph_objects as go\n",
    "\n",
    "\n",
    "\n",
    "fig = go.Figure(data=go.Contour(\n",
    "\tx=x, y=y, z=z,\n",
    "\tcontours=dict(\n",
    "\t\tcoloring='lines',\n",
    "\t\tshowlabels=True,),\n",
    "    line_width=2\n",
    "))\n",
    "\n",
    "fig.show()\n",
    "\n",
    "# x -> Value of the cost function\n",
    "# y -> Learning rates\n",
    "# z -> The value of the cost function at a given learning rate alpha\n"
   ]
  },
  {
   "cell_type": "code",
   "execution_count": null,
   "metadata": {},
   "outputs": [],
   "source": []
  }
 ],
 "metadata": {
  "kernelspec": {
   "display_name": "Python 3",
   "language": "python",
   "name": "python3"
  },
  "language_info": {
   "codemirror_mode": {
    "name": "ipython",
    "version": 3
   },
   "file_extension": ".py",
   "mimetype": "text/x-python",
   "name": "python",
   "nbconvert_exporter": "python",
   "pygments_lexer": "ipython3",
   "version": "3.7.0"
  }
 },
 "nbformat": 4,
 "nbformat_minor": 2
}
